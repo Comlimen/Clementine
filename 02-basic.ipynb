{
 "cells": [
  {
   "cell_type": "code",
   "execution_count": 1,
   "metadata": {},
   "outputs": [
    {
     "name": "stdout",
     "output_type": "stream",
     "text": [
      "这是作业\n"
     ]
    }
   ],
   "source": [
    "print(\"这是作业\")"
   ]
  },
  {
   "cell_type": "markdown",
   "metadata": {},
   "source": [
    "注释的语法 ¶\n",
    "在 Python 中，使用#标记进行**单行注释**。\n",
    "使用\"\"\"或'''来进行**多行注释**。\n",
    "多行注释不能嵌套。\n",
    "注释不会被 Python 解释器执行。"
   ]
  },
  {
   "cell_type": "code",
   "execution_count": 2,
   "metadata": {},
   "outputs": [
    {
     "name": "stdout",
     "output_type": "stream",
     "text": [
      "3+3=6\n",
      "6-3=3\n",
      "6*3=18\n",
      "3/3=1.0\n",
      "7//3=2\n",
      "4**3=64\n",
      "9%3=0\n"
     ]
    }
   ],
   "source": [
    "print('3+3='+str(3+3))\n",
    "print('6-3='+str(6-3))\n",
    "print('6*3='+str(6*3))\n",
    "print('3/3='+str(3/3))\n",
    "print('7//3='+str(7//3))\n",
    "print('4**3='+str(4**3))\n",
    "print('9%3='+str(9%3))\n"
   ]
  },
  {
   "cell_type": "code",
   "execution_count": 3,
   "metadata": {},
   "outputs": [
    {
     "name": "stdout",
     "output_type": "stream",
     "text": [
      "混凝土\n"
     ]
    }
   ],
   "source": [
    "Concrete='混凝土'\n",
    "print(Concrete)"
   ]
  },
  {
   "cell_type": "code",
   "execution_count": 2,
   "metadata": {},
   "outputs": [
    {
     "name": "stdout",
     "output_type": "stream",
     "text": [
      "混凝土\n",
      "他是\n"
     ]
    }
   ],
   "source": [
    "Concrete='混凝土'\n",
    "print(Concrete)\n",
    "他是='混凝土'\n",
    "print('他是')"
   ]
  }
 ],
 "metadata": {
  "kernelspec": {
   "display_name": "Python 3",
   "language": "python",
   "name": "python3"
  },
  "language_info": {
   "codemirror_mode": {
    "name": "ipython",
    "version": 3
   },
   "file_extension": ".py",
   "mimetype": "text/x-python",
   "name": "python",
   "nbconvert_exporter": "python",
   "pygments_lexer": "ipython3",
   "version": "3.8.10"
  },
  "orig_nbformat": 4
 },
 "nbformat": 4,
 "nbformat_minor": 2
}
